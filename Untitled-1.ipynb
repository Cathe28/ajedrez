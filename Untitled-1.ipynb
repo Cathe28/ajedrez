{
 "cells": [
  {
   "cell_type": "code",
   "execution_count": 12,
   "metadata": {},
   "outputs": [
    {
     "name": "stdout",
     "output_type": "stream",
     "text": [
      "[2, 3, 5, 7, 11]\n",
      "3\n",
      "11\n"
     ]
    }
   ],
   "source": [
    "numeros_primos=[2,3,5,7,11]\n",
    "print(numeros_primos)\n",
    "print(numeros_primos[1])\n",
    "print(numeros_primos[4])"
   ]
  },
  {
   "cell_type": "code",
   "execution_count": 13,
   "metadata": {},
   "outputs": [
    {
     "name": "stdout",
     "output_type": "stream",
     "text": [
      "[1, 2, 3]\n",
      "[1, 2, 3, 4]\n",
      "[1, 2, 3]\n"
     ]
    }
   ],
   "source": [
    "my_list1 = [1,2,3]\n",
    "new_list = my_list1.copy()\n",
    "print(new_list)\n",
    "my_list1.append(4)\n",
    "print(my_list1)\n",
    "print(new_list)\n"
   ]
  },
  {
   "cell_type": "markdown",
   "metadata": {},
   "source": [
    "<h1>Tarea 1.1 </>"
   ]
  },
  {
   "cell_type": "code",
   "execution_count": 46,
   "metadata": {},
   "outputs": [
    {
     "name": "stdout",
     "output_type": "stream",
     "text": [
      "[1, 2, 3, 4, 5, 6, 7, 8]\n",
      "[1, 2, 3, 4, 5, 6, 7, 8, 7, 14, 21, 28, 35, 42, 49, 56]\n",
      "[7, 14, 21, 28, 35, 42, 49, 56]\n",
      "[7, 14, 21, 28, 35, 42, 49, 56]\n",
      "El número mayor es: 56\n",
      "El número menor es: 1\n",
      "3.2010858729436795\n"
     ]
    }
   ],
   "source": [
    "import math\n",
    "primera_lista = [1,4,3,6,8,2,5,7]\n",
    "primera_lista.sort()\n",
    "print(primera_lista)\n",
    "segunda_lista = [7,14,21,28,35,42,49,56]\n",
    "lista_combinada = primera_lista + segunda_lista\n",
    "print(lista_combinada)\n",
    "primera_lista = segunda_lista.copy()\n",
    "\n",
    "print(primera_lista)\n",
    "print(segunda_lista)\n",
    "mayor_numero = max(lista_combinada)\n",
    "menor_numero = min(lista_combinada)\n",
    "print(\"El número mayor es:\", mayor_numero)\n",
    "print(\"El número menor es:\", menor_numero)\n",
    "segunda_lista = [7, 14, 21, 28, 35, 42, 49, 56]\n",
    "primeros_cinco_elementos = segunda_lista[:5]\n",
    "\n",
    "resultado = math.sqrt(math.sqrt(sum(primeros_cinco_elementos)))\n",
    "print(resultado)\n",
    "\n",
    "raiz_cuadrada = math.sqrt(resultado)\n",
    "print(raiz_cuadrada)\n",
    "\n",
    "\n",
    "\n",
    "\n"
   ]
  }
 ],
 "metadata": {
  "kernelspec": {
   "display_name": "Python 3",
   "language": "python",
   "name": "python3"
  },
  "language_info": {
   "codemirror_mode": {
    "name": "ipython",
    "version": 3
   },
   "file_extension": ".py",
   "mimetype": "text/x-python",
   "name": "python",
   "nbconvert_exporter": "python",
   "pygments_lexer": "ipython3",
   "version": "3.12.2"
  }
 },
 "nbformat": 4,
 "nbformat_minor": 2
}
